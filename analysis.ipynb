{
 "cells": [
  {
   "cell_type": "code",
   "execution_count": 28,
   "metadata": {
    "collapsed": false
   },
   "outputs": [],
   "source": [
    "from pandas import read_csv\n",
    "import numpy as np\n",
    "from sklearn.preprocessing import MinMaxScaler\n",
    "import seaborn as sns\n",
    "import matplotlib.pyplot as plt\n",
    "%matplotlib inline"
   ]
  },
  {
   "cell_type": "code",
   "execution_count": 71,
   "metadata": {
    "collapsed": false
   },
   "outputs": [
    {
     "name": "stdout",
     "output_type": "stream",
     "text": [
      "(10101, 29)\n"
     ]
    }
   ],
   "source": [
    "df = read_csv('youtube_static.csv')\n",
    "print df.shape"
   ]
  },
  {
   "cell_type": "code",
   "execution_count": 46,
   "metadata": {
    "collapsed": false
   },
   "outputs": [
    {
     "name": "stdout",
     "output_type": "stream",
     "text": [
      "Average View Count: 3146301.8796\n",
      "Average LikeCount: 18997.1515222\n",
      "Average duration: 806.002914921\n",
      "SD of LikeCount: 105341.804584\n"
     ]
    }
   ],
   "source": [
    "print \"Average View Count:\", np.mean(df['viewCount'])\n",
    "temp = df[df['likeCount'] >= 0]\n",
    "df['description'] = df['description'].apply(lambda x: len(str(x)))\n",
    "print \"Average LikeCount:\", np.mean(df['likeCount'])\n",
    "print \"Average duration:\", np.mean(df['duration'])\n",
    "print \"SD of LikeCount:\", np.std(df['likeCount'])"
   ]
  },
  {
   "cell_type": "code",
   "execution_count": 41,
   "metadata": {
    "collapsed": false
   },
   "outputs": [
    {
     "data": {
      "text/plain": [
       "<matplotlib.axes._subplots.AxesSubplot at 0x7f3884141a90>"
      ]
     },
     "execution_count": 41,
     "metadata": {},
     "output_type": "execute_result"
    },
    {
     "data": {
      "image/png": "[encoded data removed]",
      "text/plain": [
       "<matplotlib.figure.Figure at 0x7f3884141650>"
      ]
     },
     "metadata": {},
     "output_type": "display_data"
    }
   ],
   "source": [
    "df = df[['likeCount', 'viewCount', 'description', 'dislikeCount']]\n",
    "colormap = plt.cm.viridis\n",
    "sns.heatmap(df.iloc[:,:-1].astype(float).corr(),linewidths=0.1,vmax=1.0, square=True, cmap=colormap, linecolor='white', annot=True)"
   ]
  },
  {
   "cell_type": "code",
   "execution_count": 70,
   "metadata": {
    "collapsed": false
   },
   "outputs": [
    {
     "name": "stdout",
     "output_type": "stream",
     "text": [
      "{1.0: 3495479.0, 2.0: 187990.0, 10.0: 43149554.0, 43.0: 88447.0, 15.0: 53955.0, 17.0: 2200954.0, 19.0: 157731.0, 20.0: 3424268.0, 22.0: 5987068.0, 23.0: 8213913.0, 24.0: 11185897.0, 25.0: 402976.0, 26.0: 1552732.0, 27.0: 860838.0, 28.0: 674977.0, 29.0: 107490.0, 30.0: 474.0}\n"
     ]
    },
    {
     "data": {
      "image/png": "[encoded data removed]",
      "text/plain": [
       "<matplotlib.figure.Figure at 0x7f3883e72e90>"
      ]
     },
     "metadata": {},
     "output_type": "display_data"
    }
   ],
   "source": [
    "temp_df = df[['categoryId', 'likeCount']].dropna(axis=0)\n",
    "category_count = dict()\n",
    "for i in xrange(temp_df.shape[0]):\n",
    "    if temp_df.iloc[i, 0] != 'hd' and temp_df.iloc[i, 0] != None:\n",
    "        category_count[float(temp_df.iloc[i, 0])] = category_count.get(float(temp_df.iloc[i, 0]), 0) + temp_df.iloc[i, 1]\n",
    "plt.bar(category_count.keys(), category_count.values())\n",
    "print category_count"
   ]
  }
 ],
 "metadata": {
  "kernelspec": {
   "display_name": "Python 2",
   "language": "python",
   "name": "python2"
  },
  "language_info": {
   "codemirror_mode": {
    "name": "ipython",
    "version": 2
   },
   "file_extension": ".py",
   "mimetype": "text/x-python",
   "name": "python",
   "nbconvert_exporter": "python",
   "pygments_lexer": "ipython2",
   "version": "2.7.12"
  }
 },
 "nbformat": 4,
 "nbformat_minor": 2
}
