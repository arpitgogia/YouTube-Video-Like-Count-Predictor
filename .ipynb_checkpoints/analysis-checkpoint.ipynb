{
 "cells": [
  {
   "cell_type": "code",
   "execution_count": 88,
   "metadata": {
    "collapsed": false,
    "deletable": true,
    "editable": true
   },
   "outputs": [],
   "source": [
    "from pandas import read_csv\n",
    "import numpy as np\n",
    "from sklearn.preprocessing import MinMaxScaler\n",
    "import seaborn as sns\n",
    "import matplotlib.pyplot as plt\n",
    "from scipy import stats\n",
    "%matplotlib inline"
   ]
  },
  {
   "cell_type": "code",
   "execution_count": 89,
   "metadata": {
    "collapsed": false,
    "deletable": true,
    "editable": true
   },
   "outputs": [
    {
     "name": "stdout",
     "output_type": "stream",
     "text": [
      "(10101, 29)\n"
     ]
    }
   ],
   "source": [
    "df = read_csv('youtube_static.csv')\n",
    "print df.shape"
   ]
  },
  {
   "cell_type": "code",
   "execution_count": 90,
   "metadata": {
    "collapsed": false,
    "deletable": true,
    "editable": true
   },
   "outputs": [
    {
     "name": "stdout",
     "output_type": "stream",
     "text": [
      "Average View Count: 2963208.23164\n",
      "Average LikeCount: 18543.2487966\n",
      "Average duration: 810.489211494\n",
      "SD of LikeCount: 113289.305272\n"
     ]
    }
   ],
   "source": [
    "print \"Average View Count:\", np.mean(df['viewCount'])\n",
    "temp = df[df['likeCount'] >= 0]\n",
    "df['description'] = df['description'].apply(lambda x: len(str(x)))\n",
    "print \"Average LikeCount:\", np.mean(df['likeCount'])\n",
    "print \"Average duration:\", np.mean(df['duration'])\n",
    "print \"SD of LikeCount:\", np.std(df['likeCount'])"
   ]
  },
  {
   "cell_type": "code",
   "execution_count": 96,
   "metadata": {
    "collapsed": false
   },
   "outputs": [],
   "source": [
    "df = df.dropna(subset=['likeCount', 'commentCount'])\n",
    "df['categoryId'] = df['categoryId'].astype('uint8')\n",
    "df['definition'] = df['definition'].apply(lambda x: 0 if x == 'sd' else 1)\n",
    "df['durationCategory'] = df['durationCategory'].apply(lambda x: 0 if x == 'medium' else 1)"
   ]
  },
  {
   "cell_type": "code",
   "execution_count": 97,
   "metadata": {
    "collapsed": false,
    "deletable": true,
    "editable": true
   },
   "outputs": [
    {
     "data": {
      "text/plain": [
       "<matplotlib.axes._subplots.AxesSubplot at 0x7f58a4de4f90>"
      ]
     },
     "execution_count": 97,
     "metadata": {},
     "output_type": "execute_result"
    },
    {
     "data": {
      "image/png": "[encoded data removed]",
      "text/plain": [
       "<matplotlib.figure.Figure at 0x7f58a4eca190>"
      ]
     },
     "metadata": {},
     "output_type": "display_data"
    }
   ],
   "source": [
    "temp_df = df[['likeCount', 'viewCount', 'description', 'categoryId', 'life', 'definition', 'duration', 'dislikeCount']]\n",
    "colormap = plt.cm.viridis\n",
    "sns.heatmap(temp_df.iloc[:,:-1].astype(float).corr(),linewidths=0.1,vmax=1.0, square=True, cmap=colormap, linecolor='white', annot=True)"
   ]
  },
  {
   "cell_type": "code",
   "execution_count": 93,
   "metadata": {
    "collapsed": false,
    "deletable": true,
    "editable": true,
    "scrolled": true
   },
   "outputs": [],
   "source": [
    "# print df.columns\n",
    "# temp_df = df[['categoryId', 'likeCount']].dropna(axis=0)\n",
    "# category_count = dict()\n",
    "# for i in xrange(temp_df.shape[0]):\n",
    "#     if temp_df.iloc[i, 0] != 'hd' and temp_df.iloc[i, 0] != None:\n",
    "#         category_count[float(temp_df.iloc[i, 0])] = category_count.get(float(temp_df.iloc[i, 0]), 0) + temp_df.iloc[i, 1]\n",
    "# plt.bar(category_count.keys(), category_count.values())\n",
    "# print category_count"
   ]
  },
  {
   "cell_type": "code",
   "execution_count": 124,
   "metadata": {
    "collapsed": false,
    "deletable": true,
    "editable": true
   },
   "outputs": [
    {
     "name": "stdout",
     "output_type": "stream",
     "text": [
      "(6240, 7) (6240, 1)\n",
      "(1561, 7) (1561, 1)\n",
      "[ 0.01832222  0.68759409  0.00619022  0.03146372  0.21428571  0.04846736\n",
      "  0.00753216]\n",
      "[ 171299.]\n"
     ]
    }
   ],
   "source": [
    "from sklearn.model_selection import train_test_split\n",
    "from sklearn.preprocessing import MinMaxScaler\n",
    "data = df[['viewCount', 'life', 'duration', 'commentCount', 'categoryId', 'description', 'dislikeCount', 'likeCount']].astype('float64')\n",
    "data_x = data.iloc[:, :data.shape[1] - 1]\n",
    "scaler = MinMaxScaler(feature_range=(0, 1))\n",
    "data_x = scaler.fit_transform(data_x)\n",
    "data_y = data.iloc[:, data.shape[1] - 1:data.shape[1]]\n",
    "train_x, test_x, train_y, test_y = train_test_split(data_x, data_y, test_size=0.2, random_state=42)\n",
    "train_x = np.array(train_x, dtype='float64')\n",
    "train_y = np.array(train_y, dtype='float64')\n",
    "test_x = np.array(test_x, dtype='float64')\n",
    "test_y = np.array(test_y, dtype='float64')\n",
    "print train_x.shape, train_y.shape\n",
    "print test_x.shape, test_y.shape\n",
    "index = np.random.randint(0, 101)\n",
    "print train_x[index]\n",
    "print train_y[index]"
   ]
  },
  {
   "cell_type": "code",
   "execution_count": 127,
   "metadata": {
    "collapsed": false
   },
   "outputs": [
    {
     "name": "stdout",
     "output_type": "stream",
     "text": [
      "0.776009735858\n"
     ]
    },
    {
     "name": "stderr",
     "output_type": "stream",
     "text": [
      "/usr/local/lib/python2.7/dist-packages/ipykernel/__main__.py:19: DataConversionWarning: A column-vector y was passed when a 1d array was expected. Please change the shape of y to (n_samples,), for example using ravel().\n"
     ]
    },
    {
     "name": "stdout",
     "output_type": "stream",
     "text": [
      "0.781995547255\n"
     ]
    }
   ],
   "source": [
    "from sklearn.linear_model import SGDClassifier\n",
    "from sklearn.ensemble import AdaBoostRegressor, RandomForestRegressor\n",
    "from sklearn.metrics import accuracy_score\n",
    "\n",
    "\n",
    "ada_regressor = AdaBoostRegressor()\n",
    "ada_regressor = ada_regressor.fit(train_x, train_y)\n",
    "print ada_regressor.score(test_x, test_y)\n",
    "\n",
    "\n",
    "sgd_classifier = SGDClassifier()\n",
    "train_y_temp = np.reshape(train_y, (-1, 1))\n",
    "test_y_temp = np.reshape(test_y, (-1, 1))\n",
    "# sgd_classifier = sgd_classifier.fit(train_x, train_y_temp.ravel())\n",
    "# print sgd_classifier.score(test_x, test_y_temp.ravel()) \n",
    "\n",
    "\n",
    "random_forest_regressor = RandomForestRegressor(n_estimators=200, max_depth=25)\n",
    "random_forest_regressor = random_forest_regressor.fit(train_x, train_y)\n",
    "print random_forest_regressor.score(test_x, test_y)"
   ]
  }
 ],
 "metadata": {
  "kernelspec": {
   "display_name": "Python 2",
   "language": "python",
   "name": "python2"
  },
  "language_info": {
   "codemirror_mode": {
    "name": "ipython",
    "version": 2
   },
   "file_extension": ".py",
   "mimetype": "text/x-python",
   "name": "python",
   "nbconvert_exporter": "python",
   "pygments_lexer": "ipython2",
   "version": "2.7.12"
  }
 },
 "nbformat": 4,
 "nbformat_minor": 2
}
